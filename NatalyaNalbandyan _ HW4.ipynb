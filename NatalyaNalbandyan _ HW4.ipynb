{
 "cells": [
  {
   "cell_type": "markdown",
   "id": "25f68cd1",
   "metadata": {},
   "source": [
    "# Homework 4"
   ]
  },
  {
   "cell_type": "markdown",
   "id": "a8a3aa2d",
   "metadata": {},
   "source": [
    "``` MGMT 300 - Natalya Nalbandyan ```"
   ]
  },
  {
   "cell_type": "markdown",
   "id": "bd68c25a",
   "metadata": {},
   "source": [
    "---"
   ]
  },
  {
   "cell_type": "code",
   "execution_count": 1,
   "id": "f72f40cf",
   "metadata": {},
   "outputs": [],
   "source": [
    "import pandas as pd\n",
    "import numpy as np\n",
    "import matplotlib.pyplot as plt\n",
    "import seaborn as sns\n",
    "\n",
    "from scipy.stats import pearsonr\n",
    "from scipy.stats import ttest_ind"
   ]
  },
  {
   "cell_type": "markdown",
   "id": "646e670c",
   "metadata": {},
   "source": [
    "---"
   ]
  },
  {
   "cell_type": "markdown",
   "id": "808737aa",
   "metadata": {},
   "source": [
    "## Problem 1\n"
   ]
  },
  {
   "cell_type": "code",
   "execution_count": 2,
   "id": "f660411f",
   "metadata": {},
   "outputs": [],
   "source": [
    "data = pd.read_excel('Wine_data.xlsx')"
   ]
  },
  {
   "cell_type": "markdown",
   "id": "a09958e8",
   "metadata": {},
   "source": [
    "___"
   ]
  },
  {
   "cell_type": "markdown",
   "id": "04205df6",
   "metadata": {},
   "source": [
    "## Problem 2"
   ]
  },
  {
   "cell_type": "code",
   "execution_count": 3,
   "id": "75521ae1",
   "metadata": {},
   "outputs": [
    {
     "name": "stdout",
     "output_type": "stream",
     "text": [
      "<class 'pandas.core.frame.DataFrame'>\n",
      "RangeIndex: 324 entries, 0 to 323\n",
      "Data columns (total 10 columns):\n",
      " #   Column              Non-Null Count  Dtype  \n",
      "---  ------              --------------  -----  \n",
      " 0   Customer Last Name  324 non-null    object \n",
      " 1   Offer N             324 non-null    int64  \n",
      " 2   Gender              324 non-null    object \n",
      " 3   Discount            324 non-null    int64  \n",
      " 4   Varietal            323 non-null    object \n",
      " 5   Customer_Segment    324 non-null    object \n",
      " 6   Minimum Qty (kg)    323 non-null    float64\n",
      " 7   Origin              324 non-null    object \n",
      " 8   Campaign            324 non-null    object \n",
      " 9   Past Peak           322 non-null    object \n",
      "dtypes: float64(1), int64(2), object(7)\n",
      "memory usage: 25.4+ KB\n"
     ]
    }
   ],
   "source": [
    "data.info()"
   ]
  },
  {
   "cell_type": "markdown",
   "id": "8bedac70",
   "metadata": {},
   "source": [
    "There are 3 numeric variables and 7 non-numeric variables. Out of numeric variables, 2 variables are integer type and 1 variable is float type. "
   ]
  },
  {
   "cell_type": "markdown",
   "id": "208e26ad",
   "metadata": {},
   "source": [
    "___"
   ]
  },
  {
   "cell_type": "markdown",
   "id": "67357de2",
   "metadata": {},
   "source": [
    "## Problem 3"
   ]
  },
  {
   "cell_type": "code",
   "execution_count": 4,
   "id": "695e77e1",
   "metadata": {},
   "outputs": [
    {
     "data": {
      "text/plain": [
       "Customer Last Name    0\n",
       "Offer N               0\n",
       "Gender                0\n",
       "Discount              0\n",
       "Varietal              1\n",
       "Customer_Segment      0\n",
       "Minimum Qty (kg)      1\n",
       "Origin                0\n",
       "Campaign              0\n",
       "Past Peak             2\n",
       "dtype: int64"
      ]
     },
     "execution_count": 4,
     "metadata": {},
     "output_type": "execute_result"
    }
   ],
   "source": [
    "data.isna().sum()"
   ]
  },
  {
   "cell_type": "markdown",
   "id": "e20ac499",
   "metadata": {},
   "source": [
    "There are 3 variables which contain missing values: Varietal, Minimum Qty (kg) and Past Peak\n",
    "\n",
    "There are respectively 1 missing value for Varietal and Minumum Qty variables, and 2 missing values for Past Peak variable. "
   ]
  },
  {
   "cell_type": "markdown",
   "id": "58f3d052",
   "metadata": {},
   "source": [
    "___"
   ]
  },
  {
   "cell_type": "markdown",
   "id": "5a01d493",
   "metadata": {},
   "source": [
    "## Problem 4"
   ]
  },
  {
   "cell_type": "code",
   "execution_count": 5,
   "id": "28a805b4",
   "metadata": {},
   "outputs": [
    {
     "name": "stdout",
     "output_type": "stream",
     "text": [
      "<class 'pandas.core.frame.DataFrame'>\n",
      "RangeIndex: 324 entries, 0 to 323\n",
      "Data columns (total 10 columns):\n",
      " #   Column              Non-Null Count  Dtype  \n",
      "---  ------              --------------  -----  \n",
      " 0   Customer Last Name  324 non-null    object \n",
      " 1   Offer N             324 non-null    int64  \n",
      " 2   Gender              324 non-null    object \n",
      " 3   Discount            324 non-null    int64  \n",
      " 4   Varietal            323 non-null    object \n",
      " 5   Customer_Segment    324 non-null    object \n",
      " 6   Minimum Qty (kg)    323 non-null    float64\n",
      " 7   Origin              324 non-null    object \n",
      " 8   Campaign            324 non-null    object \n",
      " 9   Past Peak           322 non-null    object \n",
      "dtypes: float64(1), int64(2), object(7)\n",
      "memory usage: 25.4+ KB\n"
     ]
    }
   ],
   "source": [
    "data.info()"
   ]
  },
  {
   "cell_type": "markdown",
   "id": "a00e0262",
   "metadata": {},
   "source": [
    "For Minimum Qty (float)replacing missing values with a median of the column. \n",
    "For the other object variables, dropping missing values"
   ]
  },
  {
   "cell_type": "code",
   "execution_count": 6,
   "id": "516dd062",
   "metadata": {},
   "outputs": [
    {
     "data": {
      "text/plain": [
       "72.0"
      ]
     },
     "execution_count": 6,
     "metadata": {},
     "output_type": "execute_result"
    }
   ],
   "source": [
    "data['Minimum Qty (kg)'].median()"
   ]
  },
  {
   "cell_type": "code",
   "execution_count": 7,
   "id": "b07d47dc",
   "metadata": {},
   "outputs": [
    {
     "data": {
      "text/plain": [
       "Customer Last Name    0\n",
       "Offer N               0\n",
       "Gender                0\n",
       "Discount              0\n",
       "Varietal              1\n",
       "Customer_Segment      0\n",
       "Minimum Qty (kg)      0\n",
       "Origin                0\n",
       "Campaign              0\n",
       "Past Peak             2\n",
       "dtype: int64"
      ]
     },
     "execution_count": 7,
     "metadata": {},
     "output_type": "execute_result"
    }
   ],
   "source": [
    "data['Minimum Qty (kg)']= data['Minimum Qty (kg)'].fillna(data['Minimum Qty (kg)'].median())\n",
    "data.isna().sum()"
   ]
  },
  {
   "cell_type": "code",
   "execution_count": 8,
   "id": "ca68f0d9",
   "metadata": {},
   "outputs": [
    {
     "data": {
      "text/plain": [
       "Customer Last Name    0\n",
       "Offer N               0\n",
       "Gender                0\n",
       "Discount              0\n",
       "Varietal              0\n",
       "Customer_Segment      0\n",
       "Minimum Qty (kg)      0\n",
       "Origin                0\n",
       "Campaign              0\n",
       "Past Peak             0\n",
       "dtype: int64"
      ]
     },
     "execution_count": 8,
     "metadata": {},
     "output_type": "execute_result"
    }
   ],
   "source": [
    "data.dropna(inplace = True)\n",
    "data.isna().sum()\n"
   ]
  },
  {
   "cell_type": "markdown",
   "id": "584de05b",
   "metadata": {},
   "source": [
    "---"
   ]
  },
  {
   "cell_type": "markdown",
   "id": "4fb3e4b0",
   "metadata": {},
   "source": [
    "## Problem 5"
   ]
  },
  {
   "cell_type": "code",
   "execution_count": 9,
   "id": "9a06f525",
   "metadata": {},
   "outputs": [
    {
     "name": "stdout",
     "output_type": "stream",
     "text": [
      "['Customer_Last_Name', 'Offer_N', 'Gender', 'Discount', 'Varietal', 'Customer_Segment', 'Minimum_Qty_kg', 'Origin', 'Campaign', 'Past_Peak']\n"
     ]
    }
   ],
   "source": [
    "columns_new = []\n",
    "for i in data.columns:\n",
    "    columns_new.append(i.replace(' ','_').replace('(','_').replace(')','').replace('__','_'))\n",
    "print(columns_new)"
   ]
  },
  {
   "cell_type": "code",
   "execution_count": 10,
   "id": "081ac5c4",
   "metadata": {},
   "outputs": [],
   "source": [
    "data.columns = columns_new"
   ]
  },
  {
   "cell_type": "code",
   "execution_count": 11,
   "id": "75b75ea1",
   "metadata": {},
   "outputs": [
    {
     "data": {
      "text/plain": [
       "Index(['Customer_Last_Name', 'Offer_N', 'Gender', 'Discount', 'Varietal',\n",
       "       'Customer_Segment', 'Minimum_Qty_kg', 'Origin', 'Campaign',\n",
       "       'Past_Peak'],\n",
       "      dtype='object')"
      ]
     },
     "execution_count": 11,
     "metadata": {},
     "output_type": "execute_result"
    }
   ],
   "source": [
    "data.columns"
   ]
  },
  {
   "cell_type": "code",
   "execution_count": 12,
   "id": "151704f2",
   "metadata": {},
   "outputs": [
    {
     "name": "stdout",
     "output_type": "stream",
     "text": [
      "<class 'pandas.core.frame.DataFrame'>\n",
      "Int64Index: 321 entries, 0 to 323\n",
      "Data columns (total 10 columns):\n",
      " #   Column              Non-Null Count  Dtype  \n",
      "---  ------              --------------  -----  \n",
      " 0   Customer_Last_Name  321 non-null    object \n",
      " 1   Offer_N             321 non-null    int64  \n",
      " 2   Gender              321 non-null    object \n",
      " 3   Discount            321 non-null    int64  \n",
      " 4   Varietal            321 non-null    object \n",
      " 5   Customer_Segment    321 non-null    object \n",
      " 6   Minimum_Qty_kg      321 non-null    float64\n",
      " 7   Origin              321 non-null    object \n",
      " 8   Campaign            321 non-null    object \n",
      " 9   Past_Peak           321 non-null    object \n",
      "dtypes: float64(1), int64(2), object(7)\n",
      "memory usage: 27.6+ KB\n"
     ]
    }
   ],
   "source": [
    "data.info()"
   ]
  },
  {
   "cell_type": "markdown",
   "id": "b3039c21",
   "metadata": {},
   "source": [
    "---"
   ]
  },
  {
   "cell_type": "markdown",
   "id": "4fc24fd6",
   "metadata": {},
   "source": [
    "## Problem 6"
   ]
  },
  {
   "cell_type": "code",
   "execution_count": 13,
   "id": "d7616a93",
   "metadata": {},
   "outputs": [
    {
     "name": "stdout",
     "output_type": "stream",
     "text": [
      "Average discount is 59.517133956386296%\n",
      "Average standard deviation is 20.281366289702248\n"
     ]
    }
   ],
   "source": [
    "print(\"Average discount is {}%\".format(np.mean(data['Discount'])))\n",
    "print(\"Average standard deviation is {}\".format(np.std(data['Discount'])))"
   ]
  },
  {
   "cell_type": "code",
   "execution_count": 14,
   "id": "98a8878c",
   "metadata": {},
   "outputs": [
    {
     "name": "stdout",
     "output_type": "stream",
     "text": [
      "Average mimimum quantity is 58.691588785046726 kg\n"
     ]
    }
   ],
   "source": [
    "print('Average mimimum quantity is {} kg'.format(np.mean(data['Minimum_Qty_kg'])))"
   ]
  },
  {
   "cell_type": "code",
   "execution_count": 15,
   "id": "03d3d993",
   "metadata": {},
   "outputs": [
    {
     "name": "stdout",
     "output_type": "stream",
     "text": [
      "Median mimimum quantity is 72.0 kg\n"
     ]
    }
   ],
   "source": [
    "print('Median mimimum quantity is {} kg'.format(np.median(data['Minimum_Qty_kg'])))"
   ]
  },
  {
   "cell_type": "code",
   "execution_count": 16,
   "id": "8ec0d529",
   "metadata": {},
   "outputs": [
    {
     "name": "stdout",
     "output_type": "stream",
     "text": [
      "66 percentile of minimum quantity is 72.0 kg\n"
     ]
    }
   ],
   "source": [
    "print('66 percentile of minimum quantity is {} kg'.format(np.percentile(data['Minimum_Qty_kg'],66)))"
   ]
  },
  {
   "cell_type": "code",
   "execution_count": 17,
   "id": "27d1d002",
   "metadata": {},
   "outputs": [
    {
     "name": "stdout",
     "output_type": "stream",
     "text": [
      "79 percentile of discount is 85.0%\n"
     ]
    }
   ],
   "source": [
    "print('79 percentile of discount is {}%'.format(np.percentile(data['Discount'],79)))"
   ]
  },
  {
   "cell_type": "markdown",
   "id": "95be9ab7",
   "metadata": {},
   "source": [
    "---"
   ]
  },
  {
   "cell_type": "markdown",
   "id": "d39e1c28",
   "metadata": {},
   "source": [
    "## Problem 7"
   ]
  },
  {
   "cell_type": "code",
   "execution_count": 18,
   "id": "8e7e8479",
   "metadata": {},
   "outputs": [],
   "source": [
    "data.reset_index(inplace=True)"
   ]
  },
  {
   "cell_type": "code",
   "execution_count": 19,
   "id": "44f11759",
   "metadata": {},
   "outputs": [
    {
     "name": "stdout",
     "output_type": "stream",
     "text": [
      "\n",
      " Gender \n",
      " ------------------------------------\n",
      "Male      161\n",
      "Female    160\n",
      "Name: Gender, dtype: int64\n",
      "\n",
      " Varietal \n",
      " ------------------------------------\n",
      "Champagne             79\n",
      "Pinot Noir            43\n",
      "Prosecco              43\n",
      "Espumante             40\n",
      "Malbec                32\n",
      "Cabernet Sauvignon    32\n",
      "Merlot                20\n",
      "Pinot Grigio          17\n",
      "Chardonnay            15\n",
      "Name: Varietal, dtype: int64\n",
      "\n",
      " Customer_Segment \n",
      " ------------------------------------\n",
      "Segment 1    124\n",
      "Segment 2     94\n",
      "Segment 3     73\n",
      "Segment 4     30\n",
      "Name: Customer_Segment, dtype: int64\n",
      "\n",
      " Origin \n",
      " ------------------------------------\n",
      "France          126\n",
      "Australia        39\n",
      "Chile            37\n",
      "Oregon           26\n",
      "South Africa     25\n",
      "Italy            23\n",
      "California       16\n",
      "Germany          16\n",
      "New Zealand      13\n",
      "Name: Origin, dtype: int64\n"
     ]
    }
   ],
   "source": [
    "for i in ['Gender', 'Varietal', 'Customer_Segment','Origin']:\n",
    "    print('\\n',i,'\\n','------------------------------------')\n",
    "    print(data[i].value_counts())"
   ]
  },
  {
   "cell_type": "markdown",
   "id": "fbaffc5d",
   "metadata": {},
   "source": [
    "## Problem 8"
   ]
  },
  {
   "cell_type": "code",
   "execution_count": 20,
   "id": "c396734f",
   "metadata": {},
   "outputs": [],
   "source": [
    "data_num=data.iloc[:,2:].select_dtypes(exclude='object')"
   ]
  },
  {
   "cell_type": "code",
   "execution_count": 21,
   "id": "ded1a4ed",
   "metadata": {},
   "outputs": [
    {
     "data": {
      "text/html": [
       "<div>\n",
       "<style scoped>\n",
       "    .dataframe tbody tr th:only-of-type {\n",
       "        vertical-align: middle;\n",
       "    }\n",
       "\n",
       "    .dataframe tbody tr th {\n",
       "        vertical-align: top;\n",
       "    }\n",
       "\n",
       "    .dataframe thead th {\n",
       "        text-align: right;\n",
       "    }\n",
       "</style>\n",
       "<table border=\"1\" class=\"dataframe\">\n",
       "  <thead>\n",
       "    <tr style=\"text-align: right;\">\n",
       "      <th></th>\n",
       "      <th>Offer_N</th>\n",
       "      <th>Discount</th>\n",
       "      <th>Minimum_Qty_kg</th>\n",
       "    </tr>\n",
       "  </thead>\n",
       "  <tbody>\n",
       "    <tr>\n",
       "      <th>0</th>\n",
       "      <td>2</td>\n",
       "      <td>17</td>\n",
       "      <td>72.0</td>\n",
       "    </tr>\n",
       "    <tr>\n",
       "      <th>1</th>\n",
       "      <td>24</td>\n",
       "      <td>34</td>\n",
       "      <td>6.0</td>\n",
       "    </tr>\n",
       "    <tr>\n",
       "      <th>2</th>\n",
       "      <td>17</td>\n",
       "      <td>47</td>\n",
       "      <td>12.0</td>\n",
       "    </tr>\n",
       "    <tr>\n",
       "      <th>3</th>\n",
       "      <td>24</td>\n",
       "      <td>34</td>\n",
       "      <td>6.0</td>\n",
       "    </tr>\n",
       "    <tr>\n",
       "      <th>4</th>\n",
       "      <td>26</td>\n",
       "      <td>83</td>\n",
       "      <td>144.0</td>\n",
       "    </tr>\n",
       "  </tbody>\n",
       "</table>\n",
       "</div>"
      ],
      "text/plain": [
       "   Offer_N  Discount  Minimum_Qty_kg\n",
       "0        2        17            72.0\n",
       "1       24        34             6.0\n",
       "2       17        47            12.0\n",
       "3       24        34             6.0\n",
       "4       26        83           144.0"
      ]
     },
     "execution_count": 21,
     "metadata": {},
     "output_type": "execute_result"
    }
   ],
   "source": [
    "data_num.head()"
   ]
  },
  {
   "cell_type": "code",
   "execution_count": 22,
   "id": "c049d755",
   "metadata": {},
   "outputs": [
    {
     "name": "stderr",
     "output_type": "stream",
     "text": [
      "/Users/natalyanalbandyan/opt/anaconda3/lib/python3.8/site-packages/seaborn/_decorators.py:36: FutureWarning: Pass the following variable as a keyword arg: x. From version 0.12, the only valid positional argument will be `data`, and passing other arguments without an explicit keyword will result in an error or misinterpretation.\n",
      "  warnings.warn(\n"
     ]
    },
    {
     "data": {
      "image/png": "[encoded data removed]",
      "text/plain": [
       "<Figure size 432x288 with 1 Axes>"
      ]
     },
     "metadata": {
      "needs_background": "light"
     },
     "output_type": "display_data"
    },
    {
     "name": "stderr",
     "output_type": "stream",
     "text": [
      "/Users/natalyanalbandyan/opt/anaconda3/lib/python3.8/site-packages/seaborn/_decorators.py:36: FutureWarning: Pass the following variable as a keyword arg: x. From version 0.12, the only valid positional argument will be `data`, and passing other arguments without an explicit keyword will result in an error or misinterpretation.\n",
      "  warnings.warn(\n"
     ]
    },
    {
     "data": {
      "image/png": "[encoded data removed]",
      "text/plain": [
       "<Figure size 432x288 with 1 Axes>"
      ]
     },
     "metadata": {
      "needs_background": "light"
     },
     "output_type": "display_data"
    },
    {
     "name": "stderr",
     "output_type": "stream",
     "text": [
      "/Users/natalyanalbandyan/opt/anaconda3/lib/python3.8/site-packages/seaborn/_decorators.py:36: FutureWarning: Pass the following variable as a keyword arg: x. From version 0.12, the only valid positional argument will be `data`, and passing other arguments without an explicit keyword will result in an error or misinterpretation.\n",
      "  warnings.warn(\n"
     ]
    },
    {
     "data": {
      "image/png": "[encoded data removed]",
      "text/plain": [
       "<Figure size 432x288 with 1 Axes>"
      ]
     },
     "metadata": {
      "needs_background": "light"
     },
     "output_type": "display_data"
    }
   ],
   "source": [
    "for i in data_num.columns:\n",
    "    sns.boxplot(data_num[i])\n",
    "    plt.show()"
   ]
  },
  {
   "cell_type": "code",
   "execution_count": 23,
   "id": "865a5b88",
   "metadata": {},
   "outputs": [
    {
     "name": "stderr",
     "output_type": "stream",
     "text": [
      "/Users/natalyanalbandyan/opt/anaconda3/lib/python3.8/site-packages/seaborn/distributions.py:2557: FutureWarning: `distplot` is a deprecated function and will be removed in a future version. Please adapt your code to use either `displot` (a figure-level function with similar flexibility) or `histplot` (an axes-level function for histograms).\n",
      "  warnings.warn(msg, FutureWarning)\n"
     ]
    },
    {
     "data": {
      "image/png": "[encoded data removed]",
      "text/plain": [
       "<Figure size 432x288 with 1 Axes>"
      ]
     },
     "metadata": {
      "needs_background": "light"
     },
     "output_type": "display_data"
    },
    {
     "name": "stderr",
     "output_type": "stream",
     "text": [
      "/Users/natalyanalbandyan/opt/anaconda3/lib/python3.8/site-packages/seaborn/distributions.py:2557: FutureWarning: `distplot` is a deprecated function and will be removed in a future version. Please adapt your code to use either `displot` (a figure-level function with similar flexibility) or `histplot` (an axes-level function for histograms).\n",
      "  warnings.warn(msg, FutureWarning)\n"
     ]
    },
    {
     "data": {
      "image/png": "[encoded data removed]",
      "text/plain": [
       "<Figure size 432x288 with 1 Axes>"
      ]
     },
     "metadata": {
      "needs_background": "light"
     },
     "output_type": "display_data"
    },
    {
     "name": "stderr",
     "output_type": "stream",
     "text": [
      "/Users/natalyanalbandyan/opt/anaconda3/lib/python3.8/site-packages/seaborn/distributions.py:2557: FutureWarning: `distplot` is a deprecated function and will be removed in a future version. Please adapt your code to use either `displot` (a figure-level function with similar flexibility) or `histplot` (an axes-level function for histograms).\n",
      "  warnings.warn(msg, FutureWarning)\n"
     ]
    },
    {
     "data": {
      "image/png": "[encoded data removed]",
      "text/plain": [
       "<Figure size 432x288 with 1 Axes>"
      ]
     },
     "metadata": {
      "needs_background": "light"
     },
     "output_type": "display_data"
    }
   ],
   "source": [
    "for i in data_num.columns:\n",
    "    sns.distplot(data_num[i])\n",
    "    plt.show()"
   ]
  },
  {
   "cell_type": "markdown",
   "id": "e8d1075b",
   "metadata": {},
   "source": [
    "- Above we can see distribution for the 3 numeric variables which are (Offer number, discount and Minimum quantity)(Index is excluded as well).\n",
    "- Discoun range is within %18-90 range, the distribution being left skewed. \n",
    "- Minumum order quantity is in a range aroung 5-140 kg, the distribution being right skewed."
   ]
  },
  {
   "cell_type": "markdown",
   "id": "eaaeb700",
   "metadata": {},
   "source": [
    "## Problem 9"
   ]
  },
  {
   "cell_type": "code",
   "execution_count": 24,
   "id": "8de5f1c1",
   "metadata": {},
   "outputs": [],
   "source": [
    "#a. Relationship between “Gender” and “Minimum Qty (kg)”"
   ]
  },
  {
   "cell_type": "code",
   "execution_count": 25,
   "id": "18d17877",
   "metadata": {},
   "outputs": [
    {
     "data": {
      "image/png": "[encoded data removed]",
      "text/plain": [
       "<Figure size 432x288 with 1 Axes>"
      ]
     },
     "metadata": {
      "needs_background": "light"
     },
     "output_type": "display_data"
    }
   ],
   "source": [
    "sns.boxplot(y=data.Gender,x=data.Minimum_Qty_kg,orient='h')\n",
    "\n",
    "plt.show()"
   ]
  },
  {
   "cell_type": "markdown",
   "id": "9e60ef62",
   "metadata": {},
   "source": [
    "Minimum order quantity distribution is more or less the same for both genders. "
   ]
  },
  {
   "cell_type": "code",
   "execution_count": 26,
   "id": "9449f9d5",
   "metadata": {},
   "outputs": [],
   "source": [
    "#b. Relationship between “Origin” and “Minimum Qty (kg)”"
   ]
  },
  {
   "cell_type": "code",
   "execution_count": 27,
   "id": "a57f3b92",
   "metadata": {},
   "outputs": [
    {
     "data": {
      "image/png": "[encoded data removed]",
      "text/plain": [
       "<Figure size 432x288 with 1 Axes>"
      ]
     },
     "metadata": {
      "needs_background": "light"
     },
     "output_type": "display_data"
    }
   ],
   "source": [
    "data[['Origin','Minimum_Qty_kg']].groupby('Origin').mean().plot(kind='bar')\n",
    "plt.show()"
   ]
  },
  {
   "cell_type": "markdown",
   "id": "e2224c70",
   "metadata": {},
   "source": [
    "- Minimum Order Quantity is comparatively high for some Origin countries (Chile, New  Zealand) and also comparatively low for some other countries (Germany, France, South Africa). \n",
    "- There is a significant relationship between origin and minimum order quantity"
   ]
  },
  {
   "cell_type": "code",
   "execution_count": 28,
   "id": "733dc066",
   "metadata": {},
   "outputs": [],
   "source": [
    "#c. Relationship between “Minimum Qty (kg)” and “Discount”"
   ]
  },
  {
   "cell_type": "code",
   "execution_count": 29,
   "id": "1b7a2072",
   "metadata": {},
   "outputs": [
    {
     "data": {
      "image/png": "[encoded data removed]",
      "text/plain": [
       "<Figure size 576x432 with 1 Axes>"
      ]
     },
     "metadata": {},
     "output_type": "display_data"
    }
   ],
   "source": [
    "plt.figure(figsize=(8,6), facecolor=\"#ecd3f2\") \n",
    "plt.scatter(data.Minimum_Qty_kg,\n",
    "            data.Discount,\n",
    "            color=\"#be2596\")\n",
    "plt.title(\"Relationship between Minimum Order Quantity and Discount\")\n",
    "plt.xlabel(\"Minimum Order Quantity (kg)\")\n",
    "plt.ylabel(\"Discount (%)\")\n",
    "plt.grid(b=True,\n",
    "         linestyle=':' \n",
    ")\n",
    "plt.show()"
   ]
  },
  {
   "cell_type": "markdown",
   "id": "06d108a5",
   "metadata": {},
   "source": [
    "- There is no significant relationship between Minimum Order Quanity and Discount"
   ]
  },
  {
   "cell_type": "code",
   "execution_count": 30,
   "id": "c5552683",
   "metadata": {},
   "outputs": [],
   "source": [
    "#d. Relationship between “Varietal” and “Origin”"
   ]
  },
  {
   "cell_type": "code",
   "execution_count": 31,
   "id": "c4bb8629",
   "metadata": {},
   "outputs": [
    {
     "data": {
      "image/png": "[encoded data removed]",
      "text/plain": [
       "<Figure size 576x432 with 1 Axes>"
      ]
     },
     "metadata": {},
     "output_type": "display_data"
    }
   ],
   "source": [
    "plt.figure(figsize=(8,6), facecolor=\"#ecd3f2\") \n",
    "plt.scatter(data.Origin,\n",
    "            data.Varietal,\n",
    "            color=\"#be2596\")\n",
    "plt.title(\"Relationship between Wine varieties and it's origin\")\n",
    "plt.xlabel(\"Origin\")\n",
    "plt.ylabel(\"Varieties\")\n",
    "plt.grid(b=True,\n",
    "         linestyle=':' \n",
    ")\n",
    "plt.show()"
   ]
  },
  {
   "cell_type": "markdown",
   "id": "b30286dd",
   "metadata": {},
   "source": [
    "- There is a relationship between Wine variety and it's origin. In particular from the Scatter Plot it can be seen the varieties by origin (and vice versa). "
   ]
  },
  {
   "cell_type": "code",
   "execution_count": 32,
   "id": "018499fe",
   "metadata": {},
   "outputs": [],
   "source": [
    "#e. Correlation between all numeric variables in the data"
   ]
  },
  {
   "cell_type": "code",
   "execution_count": 33,
   "id": "8105880b",
   "metadata": {},
   "outputs": [
    {
     "data": {
      "text/plain": [
       "<AxesSubplot:>"
      ]
     },
     "execution_count": 33,
     "metadata": {},
     "output_type": "execute_result"
    },
    {
     "data": {
      "image/png": "[encoded data removed]",
      "text/plain": [
       "<Figure size 432x288 with 2 Axes>"
      ]
     },
     "metadata": {
      "needs_background": "light"
     },
     "output_type": "display_data"
    }
   ],
   "source": [
    "sns.heatmap(data_num.corr().abs(),annot=True)\n"
   ]
  },
  {
   "cell_type": "markdown",
   "id": "f7b18adb",
   "metadata": {},
   "source": [
    "- There is a high corerlation (0.43) between discount and Offer Number"
   ]
  },
  {
   "cell_type": "markdown",
   "id": "1d28c5d6",
   "metadata": {},
   "source": [
    "## Problem 10"
   ]
  },
  {
   "cell_type": "markdown",
   "id": "d8456fe5",
   "metadata": {},
   "source": [
    "*Difference between female and male wine buyers in terms of average “Minimum Qty (kg)” bought*"
   ]
  },
  {
   "cell_type": "code",
   "execution_count": 34,
   "id": "f07d7616",
   "metadata": {},
   "outputs": [
    {
     "data": {
      "text/plain": [
       "Ttest_indResult(statistic=0.11940445515514647, pvalue=0.9050300923363799)"
      ]
     },
     "execution_count": 34,
     "metadata": {},
     "output_type": "execute_result"
    }
   ],
   "source": [
    "ttest_ind(data['Minimum_Qty_kg'][data['Gender']=='Female'],\n",
    "          data['Minimum_Qty_kg'][data['Gender']=='Male']\n",
    ")"
   ]
  },
  {
   "cell_type": "code",
   "execution_count": 35,
   "id": "b4d4d9a6",
   "metadata": {},
   "outputs": [
    {
     "data": {
      "text/html": [
       "<div>\n",
       "<style scoped>\n",
       "    .dataframe tbody tr th:only-of-type {\n",
       "        vertical-align: middle;\n",
       "    }\n",
       "\n",
       "    .dataframe tbody tr th {\n",
       "        vertical-align: top;\n",
       "    }\n",
       "\n",
       "    .dataframe thead th {\n",
       "        text-align: right;\n",
       "    }\n",
       "</style>\n",
       "<table border=\"1\" class=\"dataframe\">\n",
       "  <thead>\n",
       "    <tr style=\"text-align: right;\">\n",
       "      <th></th>\n",
       "      <th>Minimum_Qty_kg</th>\n",
       "    </tr>\n",
       "    <tr>\n",
       "      <th>Gender</th>\n",
       "      <th></th>\n",
       "    </tr>\n",
       "  </thead>\n",
       "  <tbody>\n",
       "    <tr>\n",
       "      <th>Female</th>\n",
       "      <td>59.025000</td>\n",
       "    </tr>\n",
       "    <tr>\n",
       "      <th>Male</th>\n",
       "      <td>58.360248</td>\n",
       "    </tr>\n",
       "  </tbody>\n",
       "</table>\n",
       "</div>"
      ],
      "text/plain": [
       "        Minimum_Qty_kg\n",
       "Gender                \n",
       "Female       59.025000\n",
       "Male         58.360248"
      ]
     },
     "execution_count": 35,
     "metadata": {},
     "output_type": "execute_result"
    }
   ],
   "source": [
    "data[['Gender','Minimum_Qty_kg']].groupby('Gender').mean()\n"
   ]
  },
  {
   "cell_type": "markdown",
   "id": "a1e6114f",
   "metadata": {},
   "source": [
    "There is no significant difference for minimum order quantity in terms of gender. p-value is 0.9 is much higher than 0.05"
   ]
  },
  {
   "cell_type": "markdown",
   "id": "2636621f",
   "metadata": {},
   "source": [
    "## Premium Question"
   ]
  },
  {
   "cell_type": "code",
   "execution_count": 36,
   "id": "65b4803f",
   "metadata": {},
   "outputs": [],
   "source": [
    "def discount(i):\n",
    "    \"\"\"i is each value in column\"\"\"\n",
    "    if i<np.percentile(data.Discount,50):\n",
    "        output='less than 50%'\n",
    "    elif i>=np.percentile(data.Discount,50) and i<=np.percentile(data.Discount,70):\n",
    "        output='from 50% to 70%'\n",
    "    else:\n",
    "        output='more than 70%'\n",
    "    return output"
   ]
  },
  {
   "cell_type": "code",
   "execution_count": 37,
   "id": "b1ce1787",
   "metadata": {},
   "outputs": [
    {
     "data": {
      "text/html": [
       "<div>\n",
       "<style scoped>\n",
       "    .dataframe tbody tr th:only-of-type {\n",
       "        vertical-align: middle;\n",
       "    }\n",
       "\n",
       "    .dataframe tbody tr th {\n",
       "        vertical-align: top;\n",
       "    }\n",
       "\n",
       "    .dataframe thead th {\n",
       "        text-align: right;\n",
       "    }\n",
       "</style>\n",
       "<table border=\"1\" class=\"dataframe\">\n",
       "  <thead>\n",
       "    <tr style=\"text-align: right;\">\n",
       "      <th></th>\n",
       "      <th>index</th>\n",
       "      <th>Customer_Last_Name</th>\n",
       "      <th>Offer_N</th>\n",
       "      <th>Gender</th>\n",
       "      <th>Discount</th>\n",
       "      <th>Varietal</th>\n",
       "      <th>Customer_Segment</th>\n",
       "      <th>Minimum_Qty_kg</th>\n",
       "      <th>Origin</th>\n",
       "      <th>Campaign</th>\n",
       "      <th>Past_Peak</th>\n",
       "    </tr>\n",
       "  </thead>\n",
       "  <tbody>\n",
       "    <tr>\n",
       "      <th>0</th>\n",
       "      <td>0</td>\n",
       "      <td>Smith</td>\n",
       "      <td>2</td>\n",
       "      <td>Male</td>\n",
       "      <td>17</td>\n",
       "      <td>Pinot Noir</td>\n",
       "      <td>Segment 4</td>\n",
       "      <td>72.0</td>\n",
       "      <td>France</td>\n",
       "      <td>January</td>\n",
       "      <td>False</td>\n",
       "    </tr>\n",
       "    <tr>\n",
       "      <th>1</th>\n",
       "      <td>1</td>\n",
       "      <td>Smith</td>\n",
       "      <td>24</td>\n",
       "      <td>Male</td>\n",
       "      <td>34</td>\n",
       "      <td>Pinot Noir</td>\n",
       "      <td>Segment 4</td>\n",
       "      <td>6.0</td>\n",
       "      <td>Italy</td>\n",
       "      <td>September</td>\n",
       "      <td>False</td>\n",
       "    </tr>\n",
       "    <tr>\n",
       "      <th>2</th>\n",
       "      <td>2</td>\n",
       "      <td>Johnson</td>\n",
       "      <td>17</td>\n",
       "      <td>Male</td>\n",
       "      <td>47</td>\n",
       "      <td>Pinot Noir</td>\n",
       "      <td>Segment 4</td>\n",
       "      <td>12.0</td>\n",
       "      <td>Germany</td>\n",
       "      <td>July</td>\n",
       "      <td>False</td>\n",
       "    </tr>\n",
       "    <tr>\n",
       "      <th>3</th>\n",
       "      <td>3</td>\n",
       "      <td>Johnson</td>\n",
       "      <td>24</td>\n",
       "      <td>Male</td>\n",
       "      <td>34</td>\n",
       "      <td>Pinot Noir</td>\n",
       "      <td>Segment 4</td>\n",
       "      <td>6.0</td>\n",
       "      <td>Italy</td>\n",
       "      <td>September</td>\n",
       "      <td>False</td>\n",
       "    </tr>\n",
       "    <tr>\n",
       "      <th>4</th>\n",
       "      <td>4</td>\n",
       "      <td>Johnson</td>\n",
       "      <td>26</td>\n",
       "      <td>Male</td>\n",
       "      <td>83</td>\n",
       "      <td>Pinot Noir</td>\n",
       "      <td>Segment 4</td>\n",
       "      <td>144.0</td>\n",
       "      <td>Australia</td>\n",
       "      <td>October</td>\n",
       "      <td>False</td>\n",
       "    </tr>\n",
       "  </tbody>\n",
       "</table>\n",
       "</div>"
      ],
      "text/plain": [
       "   index Customer_Last_Name  Offer_N Gender  Discount    Varietal  \\\n",
       "0      0              Smith        2   Male        17  Pinot Noir   \n",
       "1      1              Smith       24   Male        34  Pinot Noir   \n",
       "2      2            Johnson       17   Male        47  Pinot Noir   \n",
       "3      3            Johnson       24   Male        34  Pinot Noir   \n",
       "4      4            Johnson       26   Male        83  Pinot Noir   \n",
       "\n",
       "  Customer_Segment  Minimum_Qty_kg     Origin   Campaign Past_Peak  \n",
       "0        Segment 4            72.0     France    January     False  \n",
       "1        Segment 4             6.0      Italy  September     False  \n",
       "2        Segment 4            12.0    Germany       July     False  \n",
       "3        Segment 4             6.0      Italy  September     False  \n",
       "4        Segment 4           144.0  Australia    October     False  "
      ]
     },
     "execution_count": 37,
     "metadata": {},
     "output_type": "execute_result"
    }
   ],
   "source": [
    "data.head()"
   ]
  },
  {
   "cell_type": "code",
   "execution_count": 38,
   "id": "f3b03ddb",
   "metadata": {},
   "outputs": [
    {
     "data": {
      "text/html": [
       "<div>\n",
       "<style scoped>\n",
       "    .dataframe tbody tr th:only-of-type {\n",
       "        vertical-align: middle;\n",
       "    }\n",
       "\n",
       "    .dataframe tbody tr th {\n",
       "        vertical-align: top;\n",
       "    }\n",
       "\n",
       "    .dataframe thead th {\n",
       "        text-align: right;\n",
       "    }\n",
       "</style>\n",
       "<table border=\"1\" class=\"dataframe\">\n",
       "  <thead>\n",
       "    <tr style=\"text-align: right;\">\n",
       "      <th></th>\n",
       "      <th>Customer_Last_Name</th>\n",
       "      <th>Offer_N</th>\n",
       "      <th>Gender</th>\n",
       "      <th>Discount</th>\n",
       "      <th>Varietal</th>\n",
       "      <th>Customer_Segment</th>\n",
       "      <th>Minimum_Qty_kg</th>\n",
       "      <th>Origin</th>\n",
       "      <th>Campaign</th>\n",
       "      <th>Past_Peak</th>\n",
       "    </tr>\n",
       "  </thead>\n",
       "  <tbody>\n",
       "    <tr>\n",
       "      <th>0</th>\n",
       "      <td>Smith</td>\n",
       "      <td>2</td>\n",
       "      <td>Male</td>\n",
       "      <td>17</td>\n",
       "      <td>Pinot Noir</td>\n",
       "      <td>Segment 4</td>\n",
       "      <td>72.0</td>\n",
       "      <td>France</td>\n",
       "      <td>January</td>\n",
       "      <td>False</td>\n",
       "    </tr>\n",
       "    <tr>\n",
       "      <th>1</th>\n",
       "      <td>Smith</td>\n",
       "      <td>24</td>\n",
       "      <td>Male</td>\n",
       "      <td>34</td>\n",
       "      <td>Pinot Noir</td>\n",
       "      <td>Segment 4</td>\n",
       "      <td>6.0</td>\n",
       "      <td>Italy</td>\n",
       "      <td>September</td>\n",
       "      <td>False</td>\n",
       "    </tr>\n",
       "    <tr>\n",
       "      <th>2</th>\n",
       "      <td>Johnson</td>\n",
       "      <td>17</td>\n",
       "      <td>Male</td>\n",
       "      <td>47</td>\n",
       "      <td>Pinot Noir</td>\n",
       "      <td>Segment 4</td>\n",
       "      <td>12.0</td>\n",
       "      <td>Germany</td>\n",
       "      <td>July</td>\n",
       "      <td>False</td>\n",
       "    </tr>\n",
       "    <tr>\n",
       "      <th>3</th>\n",
       "      <td>Johnson</td>\n",
       "      <td>24</td>\n",
       "      <td>Male</td>\n",
       "      <td>34</td>\n",
       "      <td>Pinot Noir</td>\n",
       "      <td>Segment 4</td>\n",
       "      <td>6.0</td>\n",
       "      <td>Italy</td>\n",
       "      <td>September</td>\n",
       "      <td>False</td>\n",
       "    </tr>\n",
       "    <tr>\n",
       "      <th>4</th>\n",
       "      <td>Johnson</td>\n",
       "      <td>26</td>\n",
       "      <td>Male</td>\n",
       "      <td>83</td>\n",
       "      <td>Pinot Noir</td>\n",
       "      <td>Segment 4</td>\n",
       "      <td>144.0</td>\n",
       "      <td>Australia</td>\n",
       "      <td>October</td>\n",
       "      <td>False</td>\n",
       "    </tr>\n",
       "  </tbody>\n",
       "</table>\n",
       "</div>"
      ],
      "text/plain": [
       "  Customer_Last_Name  Offer_N Gender  Discount    Varietal Customer_Segment  \\\n",
       "0              Smith        2   Male        17  Pinot Noir        Segment 4   \n",
       "1              Smith       24   Male        34  Pinot Noir        Segment 4   \n",
       "2            Johnson       17   Male        47  Pinot Noir        Segment 4   \n",
       "3            Johnson       24   Male        34  Pinot Noir        Segment 4   \n",
       "4            Johnson       26   Male        83  Pinot Noir        Segment 4   \n",
       "\n",
       "   Minimum_Qty_kg     Origin   Campaign Past_Peak  \n",
       "0            72.0     France    January     False  \n",
       "1             6.0      Italy  September     False  \n",
       "2            12.0    Germany       July     False  \n",
       "3             6.0      Italy  September     False  \n",
       "4           144.0  Australia    October     False  "
      ]
     },
     "execution_count": 38,
     "metadata": {},
     "output_type": "execute_result"
    }
   ],
   "source": [
    "data.drop('index',axis=1,inplace=True)\n",
    "data.head()"
   ]
  },
  {
   "cell_type": "code",
   "execution_count": 39,
   "id": "c640d8b6",
   "metadata": {},
   "outputs": [
    {
     "data": {
      "text/plain": [
       "['less than 50%',\n",
       " 'less than 50%',\n",
       " 'less than 50%',\n",
       " 'less than 50%',\n",
       " 'more than 70%',\n",
       " 'less than 50%',\n",
       " 'from 50% to 70%',\n",
       " 'more than 70%',\n",
       " 'less than 50%',\n",
       " 'more than 70%',\n",
       " 'less than 50%',\n",
       " 'less than 50%',\n",
       " 'more than 70%',\n",
       " 'less than 50%',\n",
       " 'from 50% to 70%',\n",
       " 'less than 50%',\n",
       " 'from 50% to 70%',\n",
       " 'less than 50%',\n",
       " 'more than 70%',\n",
       " 'more than 70%',\n",
       " 'from 50% to 70%',\n",
       " 'from 50% to 70%',\n",
       " 'from 50% to 70%',\n",
       " 'less than 50%',\n",
       " 'less than 50%',\n",
       " 'more than 70%',\n",
       " 'less than 50%',\n",
       " 'less than 50%',\n",
       " 'more than 70%',\n",
       " 'from 50% to 70%',\n",
       " 'from 50% to 70%',\n",
       " 'less than 50%',\n",
       " 'more than 70%',\n",
       " 'less than 50%',\n",
       " 'less than 50%',\n",
       " 'more than 70%',\n",
       " 'less than 50%',\n",
       " 'from 50% to 70%',\n",
       " 'from 50% to 70%',\n",
       " 'from 50% to 70%',\n",
       " 'more than 70%',\n",
       " 'from 50% to 70%',\n",
       " 'more than 70%',\n",
       " 'less than 50%',\n",
       " 'less than 50%',\n",
       " 'more than 70%',\n",
       " 'from 50% to 70%',\n",
       " 'from 50% to 70%',\n",
       " 'less than 50%',\n",
       " 'more than 70%',\n",
       " 'less than 50%',\n",
       " 'from 50% to 70%',\n",
       " 'from 50% to 70%',\n",
       " 'more than 70%',\n",
       " 'from 50% to 70%',\n",
       " 'less than 50%',\n",
       " 'from 50% to 70%',\n",
       " 'from 50% to 70%',\n",
       " 'from 50% to 70%',\n",
       " 'less than 50%',\n",
       " 'from 50% to 70%',\n",
       " 'more than 70%',\n",
       " 'less than 50%',\n",
       " 'more than 70%',\n",
       " 'more than 70%',\n",
       " 'less than 50%',\n",
       " 'less than 50%',\n",
       " 'more than 70%',\n",
       " 'from 50% to 70%',\n",
       " 'more than 70%',\n",
       " 'from 50% to 70%',\n",
       " 'more than 70%',\n",
       " 'less than 50%',\n",
       " 'more than 70%',\n",
       " 'less than 50%',\n",
       " 'from 50% to 70%',\n",
       " 'from 50% to 70%',\n",
       " 'more than 70%',\n",
       " 'less than 50%',\n",
       " 'more than 70%',\n",
       " 'from 50% to 70%',\n",
       " 'more than 70%',\n",
       " 'less than 50%',\n",
       " 'less than 50%',\n",
       " 'less than 50%',\n",
       " 'less than 50%',\n",
       " 'more than 70%',\n",
       " 'less than 50%',\n",
       " 'more than 70%',\n",
       " 'less than 50%',\n",
       " 'less than 50%',\n",
       " 'more than 70%',\n",
       " 'from 50% to 70%',\n",
       " 'more than 70%',\n",
       " 'from 50% to 70%',\n",
       " 'less than 50%',\n",
       " 'from 50% to 70%',\n",
       " 'more than 70%',\n",
       " 'less than 50%',\n",
       " 'from 50% to 70%',\n",
       " 'more than 70%',\n",
       " 'less than 50%',\n",
       " 'less than 50%',\n",
       " 'from 50% to 70%',\n",
       " 'less than 50%',\n",
       " 'from 50% to 70%',\n",
       " 'from 50% to 70%',\n",
       " 'more than 70%',\n",
       " 'less than 50%',\n",
       " 'more than 70%',\n",
       " 'less than 50%',\n",
       " 'more than 70%',\n",
       " 'less than 50%',\n",
       " 'less than 50%',\n",
       " 'less than 50%',\n",
       " 'more than 70%',\n",
       " 'more than 70%',\n",
       " 'from 50% to 70%',\n",
       " 'less than 50%',\n",
       " 'less than 50%',\n",
       " 'less than 50%',\n",
       " 'less than 50%',\n",
       " 'from 50% to 70%',\n",
       " 'more than 70%',\n",
       " 'less than 50%',\n",
       " 'more than 70%',\n",
       " 'less than 50%',\n",
       " 'less than 50%',\n",
       " 'less than 50%',\n",
       " 'less than 50%',\n",
       " 'more than 70%',\n",
       " 'less than 50%',\n",
       " 'less than 50%',\n",
       " 'less than 50%',\n",
       " 'less than 50%',\n",
       " 'from 50% to 70%',\n",
       " 'less than 50%',\n",
       " 'less than 50%',\n",
       " 'more than 70%',\n",
       " 'from 50% to 70%',\n",
       " 'less than 50%',\n",
       " 'more than 70%',\n",
       " 'less than 50%',\n",
       " 'less than 50%',\n",
       " 'more than 70%',\n",
       " 'less than 50%',\n",
       " 'less than 50%',\n",
       " 'less than 50%',\n",
       " 'from 50% to 70%',\n",
       " 'more than 70%',\n",
       " 'less than 50%',\n",
       " 'more than 70%',\n",
       " 'more than 70%',\n",
       " 'more than 70%',\n",
       " 'less than 50%',\n",
       " 'more than 70%',\n",
       " 'more than 70%',\n",
       " 'from 50% to 70%',\n",
       " 'more than 70%',\n",
       " 'more than 70%',\n",
       " 'more than 70%',\n",
       " 'less than 50%',\n",
       " 'less than 50%',\n",
       " 'more than 70%',\n",
       " 'less than 50%',\n",
       " 'more than 70%',\n",
       " 'less than 50%',\n",
       " 'less than 50%',\n",
       " 'less than 50%',\n",
       " 'less than 50%',\n",
       " 'less than 50%',\n",
       " 'more than 70%',\n",
       " 'from 50% to 70%',\n",
       " 'more than 70%',\n",
       " 'less than 50%',\n",
       " 'more than 70%',\n",
       " 'less than 50%',\n",
       " 'less than 50%',\n",
       " 'less than 50%',\n",
       " 'more than 70%',\n",
       " 'less than 50%',\n",
       " 'less than 50%',\n",
       " 'less than 50%',\n",
       " 'from 50% to 70%',\n",
       " 'less than 50%',\n",
       " 'from 50% to 70%',\n",
       " 'less than 50%',\n",
       " 'more than 70%',\n",
       " 'from 50% to 70%',\n",
       " 'less than 50%',\n",
       " 'less than 50%',\n",
       " 'less than 50%',\n",
       " 'more than 70%',\n",
       " 'more than 70%',\n",
       " 'less than 50%',\n",
       " 'more than 70%',\n",
       " 'from 50% to 70%',\n",
       " 'less than 50%',\n",
       " 'less than 50%',\n",
       " 'from 50% to 70%',\n",
       " 'less than 50%',\n",
       " 'less than 50%',\n",
       " 'less than 50%',\n",
       " 'less than 50%',\n",
       " 'less than 50%',\n",
       " 'more than 70%',\n",
       " 'more than 70%',\n",
       " 'from 50% to 70%',\n",
       " 'from 50% to 70%',\n",
       " 'less than 50%',\n",
       " 'more than 70%',\n",
       " 'from 50% to 70%',\n",
       " 'more than 70%',\n",
       " 'less than 50%',\n",
       " 'more than 70%',\n",
       " 'more than 70%',\n",
       " 'from 50% to 70%',\n",
       " 'less than 50%',\n",
       " 'less than 50%',\n",
       " 'less than 50%',\n",
       " 'less than 50%',\n",
       " 'more than 70%',\n",
       " 'less than 50%',\n",
       " 'less than 50%',\n",
       " 'more than 70%',\n",
       " 'less than 50%',\n",
       " 'less than 50%',\n",
       " 'more than 70%',\n",
       " 'from 50% to 70%',\n",
       " 'from 50% to 70%',\n",
       " 'less than 50%',\n",
       " 'from 50% to 70%',\n",
       " 'more than 70%',\n",
       " 'less than 50%',\n",
       " 'more than 70%',\n",
       " 'less than 50%',\n",
       " 'less than 50%',\n",
       " 'more than 70%',\n",
       " 'from 50% to 70%',\n",
       " 'less than 50%',\n",
       " 'more than 70%',\n",
       " 'more than 70%',\n",
       " 'more than 70%',\n",
       " 'more than 70%',\n",
       " 'less than 50%',\n",
       " 'less than 50%',\n",
       " 'less than 50%',\n",
       " 'less than 50%',\n",
       " 'less than 50%',\n",
       " 'from 50% to 70%',\n",
       " 'less than 50%',\n",
       " 'more than 70%',\n",
       " 'less than 50%',\n",
       " 'less than 50%',\n",
       " 'less than 50%',\n",
       " 'less than 50%',\n",
       " 'more than 70%',\n",
       " 'less than 50%',\n",
       " 'from 50% to 70%',\n",
       " 'from 50% to 70%',\n",
       " 'less than 50%',\n",
       " 'more than 70%',\n",
       " 'less than 50%',\n",
       " 'less than 50%',\n",
       " 'less than 50%',\n",
       " 'less than 50%',\n",
       " 'less than 50%',\n",
       " 'from 50% to 70%',\n",
       " 'from 50% to 70%',\n",
       " 'from 50% to 70%',\n",
       " 'from 50% to 70%',\n",
       " 'less than 50%',\n",
       " 'from 50% to 70%',\n",
       " 'less than 50%',\n",
       " 'less than 50%',\n",
       " 'more than 70%',\n",
       " 'from 50% to 70%',\n",
       " 'more than 70%',\n",
       " 'from 50% to 70%',\n",
       " 'from 50% to 70%',\n",
       " 'more than 70%',\n",
       " 'less than 50%',\n",
       " 'less than 50%',\n",
       " 'more than 70%',\n",
       " 'less than 50%',\n",
       " 'less than 50%',\n",
       " 'from 50% to 70%',\n",
       " 'from 50% to 70%',\n",
       " 'more than 70%',\n",
       " 'less than 50%',\n",
       " 'less than 50%',\n",
       " 'less than 50%',\n",
       " 'less than 50%',\n",
       " 'more than 70%',\n",
       " 'less than 50%',\n",
       " 'less than 50%',\n",
       " 'more than 70%',\n",
       " 'more than 70%',\n",
       " 'less than 50%',\n",
       " 'less than 50%',\n",
       " 'less than 50%',\n",
       " 'less than 50%',\n",
       " 'less than 50%',\n",
       " 'more than 70%',\n",
       " 'less than 50%',\n",
       " 'from 50% to 70%',\n",
       " 'less than 50%',\n",
       " 'from 50% to 70%',\n",
       " 'from 50% to 70%',\n",
       " 'less than 50%',\n",
       " 'less than 50%',\n",
       " 'less than 50%',\n",
       " 'from 50% to 70%',\n",
       " 'more than 70%',\n",
       " 'from 50% to 70%',\n",
       " 'less than 50%',\n",
       " 'more than 70%',\n",
       " 'from 50% to 70%',\n",
       " 'from 50% to 70%',\n",
       " 'less than 50%',\n",
       " 'more than 70%']"
      ]
     },
     "execution_count": 39,
     "metadata": {},
     "output_type": "execute_result"
    }
   ],
   "source": [
    "discount_values=[]\n",
    "for i in range(len(data.Discount)):\n",
    "    discount_values.append(discount(data.Discount[i]))\n",
    "discount_values"
   ]
  },
  {
   "cell_type": "code",
   "execution_count": 40,
   "id": "b681d22d",
   "metadata": {},
   "outputs": [
    {
     "data": {
      "text/html": [
       "<div>\n",
       "<style scoped>\n",
       "    .dataframe tbody tr th:only-of-type {\n",
       "        vertical-align: middle;\n",
       "    }\n",
       "\n",
       "    .dataframe tbody tr th {\n",
       "        vertical-align: top;\n",
       "    }\n",
       "\n",
       "    .dataframe thead th {\n",
       "        text-align: right;\n",
       "    }\n",
       "</style>\n",
       "<table border=\"1\" class=\"dataframe\">\n",
       "  <thead>\n",
       "    <tr style=\"text-align: right;\">\n",
       "      <th></th>\n",
       "      <th>Customer_Last_Name</th>\n",
       "      <th>Offer_N</th>\n",
       "      <th>Gender</th>\n",
       "      <th>Discount</th>\n",
       "      <th>Varietal</th>\n",
       "      <th>Customer_Segment</th>\n",
       "      <th>Minimum_Qty_kg</th>\n",
       "      <th>Origin</th>\n",
       "      <th>Campaign</th>\n",
       "      <th>Past_Peak</th>\n",
       "      <th>Discount_Coded</th>\n",
       "    </tr>\n",
       "  </thead>\n",
       "  <tbody>\n",
       "    <tr>\n",
       "      <th>0</th>\n",
       "      <td>Smith</td>\n",
       "      <td>2</td>\n",
       "      <td>Male</td>\n",
       "      <td>17</td>\n",
       "      <td>Pinot Noir</td>\n",
       "      <td>Segment 4</td>\n",
       "      <td>72.0</td>\n",
       "      <td>France</td>\n",
       "      <td>January</td>\n",
       "      <td>False</td>\n",
       "      <td>less than 50%</td>\n",
       "    </tr>\n",
       "    <tr>\n",
       "      <th>1</th>\n",
       "      <td>Smith</td>\n",
       "      <td>24</td>\n",
       "      <td>Male</td>\n",
       "      <td>34</td>\n",
       "      <td>Pinot Noir</td>\n",
       "      <td>Segment 4</td>\n",
       "      <td>6.0</td>\n",
       "      <td>Italy</td>\n",
       "      <td>September</td>\n",
       "      <td>False</td>\n",
       "      <td>less than 50%</td>\n",
       "    </tr>\n",
       "    <tr>\n",
       "      <th>2</th>\n",
       "      <td>Johnson</td>\n",
       "      <td>17</td>\n",
       "      <td>Male</td>\n",
       "      <td>47</td>\n",
       "      <td>Pinot Noir</td>\n",
       "      <td>Segment 4</td>\n",
       "      <td>12.0</td>\n",
       "      <td>Germany</td>\n",
       "      <td>July</td>\n",
       "      <td>False</td>\n",
       "      <td>less than 50%</td>\n",
       "    </tr>\n",
       "    <tr>\n",
       "      <th>3</th>\n",
       "      <td>Johnson</td>\n",
       "      <td>24</td>\n",
       "      <td>Male</td>\n",
       "      <td>34</td>\n",
       "      <td>Pinot Noir</td>\n",
       "      <td>Segment 4</td>\n",
       "      <td>6.0</td>\n",
       "      <td>Italy</td>\n",
       "      <td>September</td>\n",
       "      <td>False</td>\n",
       "      <td>less than 50%</td>\n",
       "    </tr>\n",
       "    <tr>\n",
       "      <th>4</th>\n",
       "      <td>Johnson</td>\n",
       "      <td>26</td>\n",
       "      <td>Male</td>\n",
       "      <td>83</td>\n",
       "      <td>Pinot Noir</td>\n",
       "      <td>Segment 4</td>\n",
       "      <td>144.0</td>\n",
       "      <td>Australia</td>\n",
       "      <td>October</td>\n",
       "      <td>False</td>\n",
       "      <td>more than 70%</td>\n",
       "    </tr>\n",
       "  </tbody>\n",
       "</table>\n",
       "</div>"
      ],
      "text/plain": [
       "  Customer_Last_Name  Offer_N Gender  Discount    Varietal Customer_Segment  \\\n",
       "0              Smith        2   Male        17  Pinot Noir        Segment 4   \n",
       "1              Smith       24   Male        34  Pinot Noir        Segment 4   \n",
       "2            Johnson       17   Male        47  Pinot Noir        Segment 4   \n",
       "3            Johnson       24   Male        34  Pinot Noir        Segment 4   \n",
       "4            Johnson       26   Male        83  Pinot Noir        Segment 4   \n",
       "\n",
       "   Minimum_Qty_kg     Origin   Campaign Past_Peak Discount_Coded  \n",
       "0            72.0     France    January     False  less than 50%  \n",
       "1             6.0      Italy  September     False  less than 50%  \n",
       "2            12.0    Germany       July     False  less than 50%  \n",
       "3             6.0      Italy  September     False  less than 50%  \n",
       "4           144.0  Australia    October     False  more than 70%  "
      ]
     },
     "execution_count": 40,
     "metadata": {},
     "output_type": "execute_result"
    }
   ],
   "source": [
    "data['Discount_Coded']= discount_values\n",
    "data.head()"
   ]
  },
  {
   "cell_type": "code",
   "execution_count": 41,
   "id": "6c10fb55",
   "metadata": {},
   "outputs": [
    {
     "data": {
      "image/png": "[encoded data removed]",
      "text/plain": [
       "<Figure size 432x288 with 1 Axes>"
      ]
     },
     "metadata": {
      "needs_background": "light"
     },
     "output_type": "display_data"
    }
   ],
   "source": [
    "\n",
    "data[['Discount_Coded','Minimum_Qty_kg']].groupby('Discount_Coded').mean().plot(kind='bar')\n",
    "\n",
    "plt.title('Minimum Order Quantity by Discount')\n",
    "plt.ylabel('Minimum Order Quantity (kg)')\n",
    "\n",
    "plt.show()"
   ]
  },
  {
   "cell_type": "code",
   "execution_count": null,
   "id": "44f2f985",
   "metadata": {},
   "outputs": [],
   "source": []
  }
 ],
 "metadata": {
  "kernelspec": {
   "display_name": "Python 3",
   "language": "python",
   "name": "python3"
  },
  "language_info": {
   "codemirror_mode": {
    "name": "ipython",
    "version": 3
   },
   "file_extension": ".py",
   "mimetype": "text/x-python",
   "name": "python",
   "nbconvert_exporter": "python",
   "pygments_lexer": "ipython3",
   "version": "3.8.8"
  }
 },
 "nbformat": 4,
 "nbformat_minor": 5
}
